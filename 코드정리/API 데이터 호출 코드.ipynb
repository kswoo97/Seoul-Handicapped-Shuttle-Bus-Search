{
 "cells": [
  {
   "cell_type": "markdown",
   "metadata": {},
   "source": [
    "# 장애인 콜택시 운영 데이터 불러오기"
   ]
  },
  {
   "cell_type": "code",
   "execution_count": 4,
   "metadata": {},
   "outputs": [],
   "source": [
    "import numpy as np\n",
    "import pandas as pd\n",
    "import matplotlib.pyplot as plt \n",
    "import seaborn as sns\n",
    "sns.set()\n",
    "\n",
    "import json\n",
    "from bs4 import BeautifulSoup\n",
    "import requests\n",
    "from tqdm import tqdm"
   ]
  },
  {
   "cell_type": "code",
   "execution_count": null,
   "metadata": {},
   "outputs": [],
   "source": [
    "my_api_key = 1 #여기에 api 키를 입력"
   ]
  },
  {
   "cell_type": "code",
   "execution_count": null,
   "metadata": {},
   "outputs": [],
   "source": [
    "url = 'http://openapi.seoul.go.kr:8088/'+ my_api_key + '/xml/disabledCalltaxi/1/200/20190102'\n",
    "req = requests.get(url)\n",
    "html = req.text\n",
    "soup = BeautifulSoup(html, 'html.parser')"
   ]
  },
  {
   "cell_type": "markdown",
   "metadata": {},
   "source": [
    "본 프로젝트는 2020.09에 시행되었던 프로젝트입니다.  \n",
    "기타 데이터와의 호환을 위해서 호출 데이터의 기간은 2019.01.01 ~ 2019.12.31로 설정했습니다.  \n",
    "아래는 url에서 불러오는 날짜들에 대한 함수입니다."
   ]
  },
  {
   "cell_type": "code",
   "execution_count": null,
   "metadata": {},
   "outputs": [],
   "source": [
    "total_date = []\n",
    "for i in range(12) : \n",
    "    \n",
    "    if (i+1) in (1,3,5,7,8,10,12) : \n",
    "        if (i+1)/10 < 1 : \n",
    "            month = str(0) + str(i+1)\n",
    "        else : \n",
    "            month = str(i+1)\n",
    "            \n",
    "        for s in range(31) :\n",
    "            if (s+1)/10 < 1 :\n",
    "                day = str(0) + str(s+1)\n",
    "            else : \n",
    "                day = str(s+1)\n",
    "                \n",
    "            date = '2019' + month + day\n",
    "            total_date.append(date)\n",
    "            \n",
    "    elif (i+1) == 2 : \n",
    "        for s in range(28) : \n",
    "            if (s+1)/10 < 1 : \n",
    "                day = str(0) + str(s+1)\n",
    "            else : \n",
    "                day = str(s+1)\n",
    "            date = '2019' + '02' + day\n",
    "            total_date.append(date)\n",
    "            \n",
    "    elif (i+1) in (4,6,9,11) :\n",
    "        \n",
    "        if (i+1)/10 < 1 : \n",
    "            month = str(0) + str(i+1)\n",
    "        else : \n",
    "            month = str(i+1)\n",
    "            \n",
    "        for s in range(30) :\n",
    "            if (s+1)/10 < 1 :\n",
    "                day = str(0) + str(s+1)\n",
    "            else : \n",
    "                day = str(s+1)\n",
    "                \n",
    "            date = '2019' + month + day\n",
    "            total_date.append(date)\n",
    "            \n",
    "len(total_date)\n",
    "print(total_date[:10])"
   ]
  },
  {
   "cell_type": "markdown",
   "metadata": {},
   "source": [
    "total_date라는 인자에 모든 날짜들이 호출되었습니다.  \n",
    "url 호출 제한때문에, 전체 날짜 list를 두개로 나누어 두 차례에 걸처 호출을 진행했습니다."
   ]
  },
  {
   "cell_type": "code",
   "execution_count": null,
   "metadata": {},
   "outputs": [],
   "source": [
    "the_first = total_date[:252]\n",
    "the_second = total_date[252:]"
   ]
  },
  {
   "cell_type": "markdown",
   "metadata": {},
   "source": [
    "첫번째로 쪼갠 날짜에서 url로 데이터들을 호출합니다.  \n",
    "호출된 데이터는 dataframe의 형태로 first라는 인자에 저장됩니다."
   ]
  },
  {
   "cell_type": "code",
   "execution_count": null,
   "metadata": {},
   "outputs": [],
   "source": [
    "car_no = []\n",
    "cartype = []\n",
    "receipttime = []\n",
    "settime = []\n",
    "ridetime = []\n",
    "startpos1 = []\n",
    "startpos2 = []\n",
    "endpos1 = []\n",
    "endpos2 = []\n",
    "total_date_ = []\n",
    "\n",
    "for naljja in tqdm(the_first) : \n",
    "    url = 'http://openapi.seoul.go.kr:8088/'+ my_api_key + '/xml/disabledCalltaxi/1/400/' + naljja\n",
    "    req = requests.get(url)\n",
    "    html = req.text\n",
    "    soup = BeautifulSoup(html, 'html.parser')\n",
    "\n",
    "    for rows in soup.find_all('no') : \n",
    "        car_no.append(rows.text)\n",
    "        total_date_.append(naljja)\n",
    "\n",
    "    for rows in soup.find_all('cartype') : \n",
    "        cartype.append(rows.text)\n",
    "\n",
    "    for rows in soup.find_all('receipttime') : \n",
    "        receipttime.append(rows.text)\n",
    "\n",
    "    for rows in soup.find_all('settime') : \n",
    "        settime.append(rows.text)\n",
    "\n",
    "    for rows in soup.find_all('ridetime') : \n",
    "        ridetime.append(rows.text)\n",
    "\n",
    "    for rows in soup.find_all('startpos1') : \n",
    "        startpos1.append(rows.text)\n",
    "\n",
    "    for rows in soup.find_all('startpos2') : \n",
    "        startpos2.append(rows.text)\n",
    "\n",
    "    for rows in soup.find_all('endpos1') : \n",
    "        endpos1.append(rows.text)\n",
    "\n",
    "    for rows in soup.find_all('endpos2') : \n",
    "        endpos2.append(rows.text)\n",
    "\n",
    "    if len(car_no) == len(cartype) == len(receipttime) == len(settime) == len(ridetime) == len(startpos1) == len(startpos2) == len(endpos1) == len(endpos2) : \n",
    "        None\n",
    "\n",
    "    else : \n",
    "        print(naljja)\n",
    "\n",
    "        break\n",
    "        \n",
    "data = {'total_date' : total_date_,\n",
    "        'car_number' : car_no, \n",
    "       'car_type' : cartype, \n",
    "       'receipttime' : receipttime, \n",
    "       'settime' : settime, \n",
    "       'ridetime' : ridetime, \n",
    "       'startpos1' : startpos1, \n",
    "       'startpos2' : startpos2, \n",
    "       'endpos1' : endpos1, \n",
    "       'endpos2' : endpos2}\n",
    "\n",
    "first= pd.DataFrame(data = data)"
   ]
  },
  {
   "cell_type": "markdown",
   "metadata": {},
   "source": [
    "두번째로 쪼갠 날짜에서 url로 데이터들을 호출합니다.  \n",
    "호출된 데이터는 dataframe의 형태로 second라는 인자에 저장됩니다."
   ]
  },
  {
   "cell_type": "code",
   "execution_count": null,
   "metadata": {},
   "outputs": [],
   "source": [
    "car_no = []\n",
    "cartype = []\n",
    "receipttime = []\n",
    "settime = []\n",
    "ridetime = []\n",
    "startpos1 = []\n",
    "startpos2 = []\n",
    "endpos1 = []\n",
    "endpos2 = []\n",
    "total_date_ = []\n",
    "\n",
    "for naljja in tqdm(the_second) : \n",
    "    url = 'http://openapi.seoul.go.kr:8088/'+ my_api_key + '/xml/disabledCalltaxi' + naljja\n",
    "    req = requests.get(url)\n",
    "    html = req.text\n",
    "    soup = BeautifulSoup(html, 'html.parser')\n",
    "\n",
    "    for rows in soup.find_all('no') : \n",
    "        car_no.append(rows.text)\n",
    "        total_date_.append(naljja)\n",
    "\n",
    "    for rows in soup.find_all('cartype') : \n",
    "        cartype.append(rows.text)\n",
    "\n",
    "    for rows in soup.find_all('receipttime') : \n",
    "        receipttime.append(rows.text)\n",
    "\n",
    "    for rows in soup.find_all('settime') : \n",
    "        settime.append(rows.text)\n",
    "\n",
    "    for rows in soup.find_all('ridetime') : \n",
    "        ridetime.append(rows.text)\n",
    "\n",
    "    for rows in soup.find_all('startpos1') : \n",
    "        startpos1.append(rows.text)\n",
    "\n",
    "    for rows in soup.find_all('startpos2') : \n",
    "        startpos2.append(rows.text)\n",
    "\n",
    "    for rows in soup.find_all('endpos1') : \n",
    "        endpos1.append(rows.text)\n",
    "\n",
    "    for rows in soup.find_all('endpos2') : \n",
    "        endpos2.append(rows.text)\n",
    "\n",
    "    if len(car_no) == len(cartype) == len(receipttime) == len(settime) == len(ridetime) == len(startpos1) == len(startpos2) == len(endpos1) == len(endpos2) : \n",
    "        None\n",
    "\n",
    "    else : \n",
    "        print(naljja)\n",
    "\n",
    "        break\n",
    "        \n",
    "data = {'total_date' : total_date_,\n",
    "        'car_number' : car_no, \n",
    "       'car_type' : cartype, \n",
    "       'receipttime' : receipttime, \n",
    "       'settime' : settime, \n",
    "       'ridetime' : ridetime, \n",
    "       'startpos1' : startpos1, \n",
    "       'startpos2' : startpos2, \n",
    "       'endpos1' : endpos1, \n",
    "       'endpos2' : endpos2}\n",
    "\n",
    "second= pd.DataFrame(data = data)"
   ]
  },
  {
   "cell_type": "markdown",
   "metadata": {},
   "source": [
    "호출된 두개의 데이터를 합쳐줍니다."
   ]
  },
  {
   "cell_type": "code",
   "execution_count": null,
   "metadata": {},
   "outputs": [],
   "source": [
    "total_taxi_data = pd.concat([first, second], axis = 0)"
   ]
  },
  {
   "cell_type": "markdown",
   "metadata": {},
   "source": [
    "전체 데이터를 csv의 형태로 저장합니다."
   ]
  },
  {
   "cell_type": "code",
   "execution_count": null,
   "metadata": {},
   "outputs": [],
   "source": [
    "total_taxi_data.to_csv('콜택시_최종_데이터.csv', index = False)"
   ]
  },
  {
   "cell_type": "markdown",
   "metadata": {},
   "source": [
    "전체 데이터의 shape을 확인해보겠습니다."
   ]
  },
  {
   "cell_type": "code",
   "execution_count": 7,
   "metadata": {},
   "outputs": [
    {
     "data": {
      "text/html": [
       "<div>\n",
       "<style scoped>\n",
       "    .dataframe tbody tr th:only-of-type {\n",
       "        vertical-align: middle;\n",
       "    }\n",
       "\n",
       "    .dataframe tbody tr th {\n",
       "        vertical-align: top;\n",
       "    }\n",
       "\n",
       "    .dataframe thead th {\n",
       "        text-align: right;\n",
       "    }\n",
       "</style>\n",
       "<table border=\"1\" class=\"dataframe\">\n",
       "  <thead>\n",
       "    <tr style=\"text-align: right;\">\n",
       "      <th></th>\n",
       "      <th>total_date</th>\n",
       "      <th>car_number</th>\n",
       "      <th>car_type</th>\n",
       "      <th>receipttime</th>\n",
       "      <th>settime</th>\n",
       "      <th>ridetime</th>\n",
       "      <th>startpos1</th>\n",
       "      <th>startpos2</th>\n",
       "      <th>endpos1</th>\n",
       "      <th>endpos2</th>\n",
       "    </tr>\n",
       "  </thead>\n",
       "  <tbody>\n",
       "    <tr>\n",
       "      <th>0</th>\n",
       "      <td>20190101</td>\n",
       "      <td>5815</td>\n",
       "      <td>중형승합</td>\n",
       "      <td>2019-01-01 오전 12:02:00</td>\n",
       "      <td>2019-01-01 오전 3:56:24</td>\n",
       "      <td>2019-01-01 오전 4:15:34</td>\n",
       "      <td>종로구</td>\n",
       "      <td>삼청동</td>\n",
       "      <td>성북구</td>\n",
       "      <td>월곡제1동</td>\n",
       "    </tr>\n",
       "    <tr>\n",
       "      <th>1</th>\n",
       "      <td>20190101</td>\n",
       "      <td>5815</td>\n",
       "      <td>중형승합</td>\n",
       "      <td>2019-01-01 오전 12:13:00</td>\n",
       "      <td>2019-01-01 오전 3:17:56</td>\n",
       "      <td>2019-01-01 오전 3:36:11</td>\n",
       "      <td>성북구</td>\n",
       "      <td>보문동</td>\n",
       "      <td>강북구</td>\n",
       "      <td>삼각산동</td>\n",
       "    </tr>\n",
       "    <tr>\n",
       "      <th>2</th>\n",
       "      <td>20190101</td>\n",
       "      <td>1313</td>\n",
       "      <td>중형승합</td>\n",
       "      <td>2019-01-01 오전 12:15:00</td>\n",
       "      <td>2019-01-01 오전 3:03:30</td>\n",
       "      <td>2019-01-01 오전 3:23:48</td>\n",
       "      <td>강북구</td>\n",
       "      <td>인수동</td>\n",
       "      <td>노원구</td>\n",
       "      <td>하계2동</td>\n",
       "    </tr>\n",
       "  </tbody>\n",
       "</table>\n",
       "</div>"
      ],
      "text/plain": [
       "   total_date  car_number car_type             receipttime  \\\n",
       "0    20190101        5815     중형승합  2019-01-01 오전 12:02:00   \n",
       "1    20190101        5815     중형승합  2019-01-01 오전 12:13:00   \n",
       "2    20190101        1313     중형승합  2019-01-01 오전 12:15:00   \n",
       "\n",
       "                 settime               ridetime startpos1 startpos2 endpos1  \\\n",
       "0  2019-01-01 오전 3:56:24  2019-01-01 오전 4:15:34       종로구       삼청동     성북구   \n",
       "1  2019-01-01 오전 3:17:56  2019-01-01 오전 3:36:11       성북구       보문동     강북구   \n",
       "2  2019-01-01 오전 3:03:30  2019-01-01 오전 3:23:48       강북구       인수동     노원구   \n",
       "\n",
       "  endpos2  \n",
       "0   월곡제1동  \n",
       "1    삼각산동  \n",
       "2    하계2동  "
      ]
     },
     "execution_count": 7,
     "metadata": {},
     "output_type": "execute_result"
    }
   ],
   "source": [
    "entire_data = pd.read_csv('콜택시_최종_데이터.csv')\n",
    "entire_data.head(3)"
   ]
  }
 ],
 "metadata": {
  "kernelspec": {
   "display_name": "Python 3",
   "language": "python",
   "name": "python3"
  },
  "language_info": {
   "codemirror_mode": {
    "name": "ipython",
    "version": 3
   },
   "file_extension": ".py",
   "mimetype": "text/x-python",
   "name": "python",
   "nbconvert_exporter": "python",
   "pygments_lexer": "ipython3",
   "version": "3.7.6"
  },
  "latex_envs": {
   "LaTeX_envs_menu_present": true,
   "autoclose": false,
   "autocomplete": true,
   "bibliofile": "biblio.bib",
   "cite_by": "apalike",
   "current_citInitial": 1,
   "eqLabelWithNumbers": true,
   "eqNumInitial": 1,
   "hotkeys": {
    "equation": "Ctrl-E",
    "itemize": "Ctrl-I"
   },
   "labels_anchors": false,
   "latex_user_defs": false,
   "report_style_numbering": false,
   "user_envs_cfg": false
  }
 },
 "nbformat": 4,
 "nbformat_minor": 4
}
